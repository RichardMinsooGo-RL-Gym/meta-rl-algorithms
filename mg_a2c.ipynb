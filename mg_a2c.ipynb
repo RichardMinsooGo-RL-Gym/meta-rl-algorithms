{
  "nbformat": 4,
  "nbformat_minor": 0,
  "metadata": {
    "colab": {
      "provenance": [],
      "gpuType": "L4"
    },
    "kernelspec": {
      "name": "python3",
      "display_name": "Python 3"
    },
    "language_info": {
      "name": "python"
    },
    "accelerator": "GPU"
  },
  "cells": [
    {
      "cell_type": "code",
      "execution_count": 1,
      "metadata": {
        "id": "xEA_J8o_lduQ"
      },
      "outputs": [],
      "source": [
        "from IPython.display import clear_output\n",
        "clear_output()"
      ]
    },
    {
      "cell_type": "code",
      "source": [
        "# Clone from Github Repository\n",
        "! git init .\n",
        "! git remote add origin https://github.com/RichardMinsooGo-RL-Gym/meta-rl-algorithms.git\n",
        "! git pull origin master\n",
        "# ! git pull origin main"
      ],
      "metadata": {
        "colab": {
          "base_uri": "https://localhost:8080/"
        },
        "id": "K0cQV-Z-mNBF",
        "outputId": "5cc5b7d0-7914-4e21-ae5f-914783789f25"
      },
      "execution_count": 2,
      "outputs": [
        {
          "output_type": "stream",
          "name": "stdout",
          "text": [
            "\u001b[33mhint: Using 'master' as the name for the initial branch. This default branch name\u001b[m\n",
            "\u001b[33mhint: is subject to change. To configure the initial branch name to use in all\u001b[m\n",
            "\u001b[33mhint: of your new repositories, which will suppress this warning, call:\u001b[m\n",
            "\u001b[33mhint: \u001b[m\n",
            "\u001b[33mhint: \tgit config --global init.defaultBranch <name>\u001b[m\n",
            "\u001b[33mhint: \u001b[m\n",
            "\u001b[33mhint: Names commonly chosen instead of 'master' are 'main', 'trunk' and\u001b[m\n",
            "\u001b[33mhint: 'development'. The just-created branch can be renamed via this command:\u001b[m\n",
            "\u001b[33mhint: \u001b[m\n",
            "\u001b[33mhint: \tgit branch -m <name>\u001b[m\n",
            "Initialized empty Git repository in /content/.git/\n",
            "remote: Enumerating objects: 624, done.\u001b[K\n",
            "remote: Counting objects: 100% (42/42), done.\u001b[K\n",
            "remote: Compressing objects: 100% (11/11), done.\u001b[K\n",
            "remote: Total 624 (delta 34), reused 31 (delta 31), pack-reused 582 (from 1)\u001b[K\n",
            "Receiving objects: 100% (624/624), 13.67 MiB | 14.58 MiB/s, done.\n",
            "Resolving deltas: 100% (286/286), done.\n",
            "From https://github.com/RichardMinsooGo-RL-Gym/meta-rl-algorithms\n",
            " * branch            master     -> FETCH_HEAD\n",
            " * [new branch]      master     -> origin/master\n"
          ]
        }
      ]
    },
    {
      "cell_type": "code",
      "source": [
        "! pip install torchopt"
      ],
      "metadata": {
        "colab": {
          "base_uri": "https://localhost:8080/"
        },
        "id": "4nFKC-C8n7Qt",
        "outputId": "81bae307-433d-48bc-8ee2-daee6a7edb6c"
      },
      "execution_count": 3,
      "outputs": [
        {
          "output_type": "stream",
          "name": "stdout",
          "text": [
            "Collecting torchopt\n",
            "  Downloading torchopt-0.7.3-py3-none-any.whl.metadata (28 kB)\n",
            "Requirement already satisfied: torch>=1.13 in /usr/local/lib/python3.12/dist-packages (from torchopt) (2.8.0+cu126)\n",
            "Requirement already satisfied: optree>=0.4.1 in /usr/local/lib/python3.12/dist-packages (from torchopt) (0.17.0)\n",
            "Requirement already satisfied: numpy in /usr/local/lib/python3.12/dist-packages (from torchopt) (2.0.2)\n",
            "Requirement already satisfied: graphviz in /usr/local/lib/python3.12/dist-packages (from torchopt) (0.21)\n",
            "Requirement already satisfied: typing-extensions>=4.0.0 in /usr/local/lib/python3.12/dist-packages (from torchopt) (4.15.0)\n",
            "Requirement already satisfied: filelock in /usr/local/lib/python3.12/dist-packages (from torch>=1.13->torchopt) (3.19.1)\n",
            "Requirement already satisfied: setuptools in /usr/local/lib/python3.12/dist-packages (from torch>=1.13->torchopt) (75.2.0)\n",
            "Requirement already satisfied: sympy>=1.13.3 in /usr/local/lib/python3.12/dist-packages (from torch>=1.13->torchopt) (1.13.3)\n",
            "Requirement already satisfied: networkx in /usr/local/lib/python3.12/dist-packages (from torch>=1.13->torchopt) (3.5)\n",
            "Requirement already satisfied: jinja2 in /usr/local/lib/python3.12/dist-packages (from torch>=1.13->torchopt) (3.1.6)\n",
            "Requirement already satisfied: fsspec in /usr/local/lib/python3.12/dist-packages (from torch>=1.13->torchopt) (2025.3.0)\n",
            "Requirement already satisfied: nvidia-cuda-nvrtc-cu12==12.6.77 in /usr/local/lib/python3.12/dist-packages (from torch>=1.13->torchopt) (12.6.77)\n",
            "Requirement already satisfied: nvidia-cuda-runtime-cu12==12.6.77 in /usr/local/lib/python3.12/dist-packages (from torch>=1.13->torchopt) (12.6.77)\n",
            "Requirement already satisfied: nvidia-cuda-cupti-cu12==12.6.80 in /usr/local/lib/python3.12/dist-packages (from torch>=1.13->torchopt) (12.6.80)\n",
            "Requirement already satisfied: nvidia-cudnn-cu12==9.10.2.21 in /usr/local/lib/python3.12/dist-packages (from torch>=1.13->torchopt) (9.10.2.21)\n",
            "Requirement already satisfied: nvidia-cublas-cu12==12.6.4.1 in /usr/local/lib/python3.12/dist-packages (from torch>=1.13->torchopt) (12.6.4.1)\n",
            "Requirement already satisfied: nvidia-cufft-cu12==11.3.0.4 in /usr/local/lib/python3.12/dist-packages (from torch>=1.13->torchopt) (11.3.0.4)\n",
            "Requirement already satisfied: nvidia-curand-cu12==10.3.7.77 in /usr/local/lib/python3.12/dist-packages (from torch>=1.13->torchopt) (10.3.7.77)\n",
            "Requirement already satisfied: nvidia-cusolver-cu12==11.7.1.2 in /usr/local/lib/python3.12/dist-packages (from torch>=1.13->torchopt) (11.7.1.2)\n",
            "Requirement already satisfied: nvidia-cusparse-cu12==12.5.4.2 in /usr/local/lib/python3.12/dist-packages (from torch>=1.13->torchopt) (12.5.4.2)\n",
            "Requirement already satisfied: nvidia-cusparselt-cu12==0.7.1 in /usr/local/lib/python3.12/dist-packages (from torch>=1.13->torchopt) (0.7.1)\n",
            "Requirement already satisfied: nvidia-nccl-cu12==2.27.3 in /usr/local/lib/python3.12/dist-packages (from torch>=1.13->torchopt) (2.27.3)\n",
            "Requirement already satisfied: nvidia-nvtx-cu12==12.6.77 in /usr/local/lib/python3.12/dist-packages (from torch>=1.13->torchopt) (12.6.77)\n",
            "Requirement already satisfied: nvidia-nvjitlink-cu12==12.6.85 in /usr/local/lib/python3.12/dist-packages (from torch>=1.13->torchopt) (12.6.85)\n",
            "Requirement already satisfied: nvidia-cufile-cu12==1.11.1.6 in /usr/local/lib/python3.12/dist-packages (from torch>=1.13->torchopt) (1.11.1.6)\n",
            "Requirement already satisfied: triton==3.4.0 in /usr/local/lib/python3.12/dist-packages (from torch>=1.13->torchopt) (3.4.0)\n",
            "Requirement already satisfied: mpmath<1.4,>=1.1.0 in /usr/local/lib/python3.12/dist-packages (from sympy>=1.13.3->torch>=1.13->torchopt) (1.3.0)\n",
            "Requirement already satisfied: MarkupSafe>=2.0 in /usr/local/lib/python3.12/dist-packages (from jinja2->torch>=1.13->torchopt) (3.0.2)\n",
            "Downloading torchopt-0.7.3-py3-none-any.whl (168 kB)\n",
            "\u001b[2K   \u001b[90m━━━━━━━━━━━━━━━━━━━━━━━━━━━━━━━━━━━━━━━━\u001b[0m \u001b[32m168.2/168.2 kB\u001b[0m \u001b[31m15.9 MB/s\u001b[0m eta \u001b[36m0:00:00\u001b[0m\n",
            "\u001b[?25hInstalling collected packages: torchopt\n",
            "Successfully installed torchopt-0.7.3\n"
          ]
        }
      ]
    },
    {
      "cell_type": "code",
      "source": [
        "! pip install moviepy==1.0.3"
      ],
      "metadata": {
        "colab": {
          "base_uri": "https://localhost:8080/"
        },
        "id": "RqMO6g6KoIhs",
        "outputId": "1886c8f7-8f41-4804-bc08-510415edc8ba"
      },
      "execution_count": 4,
      "outputs": [
        {
          "output_type": "stream",
          "name": "stdout",
          "text": [
            "Requirement already satisfied: moviepy==1.0.3 in /usr/local/lib/python3.12/dist-packages (1.0.3)\n",
            "Requirement already satisfied: decorator<5.0,>=4.0.2 in /usr/local/lib/python3.12/dist-packages (from moviepy==1.0.3) (4.4.2)\n",
            "Requirement already satisfied: tqdm<5.0,>=4.11.2 in /usr/local/lib/python3.12/dist-packages (from moviepy==1.0.3) (4.67.1)\n",
            "Requirement already satisfied: requests<3.0,>=2.8.1 in /usr/local/lib/python3.12/dist-packages (from moviepy==1.0.3) (2.32.4)\n",
            "Requirement already satisfied: proglog<=1.0.0 in /usr/local/lib/python3.12/dist-packages (from moviepy==1.0.3) (0.1.12)\n",
            "Requirement already satisfied: numpy>=1.17.3 in /usr/local/lib/python3.12/dist-packages (from moviepy==1.0.3) (2.0.2)\n",
            "Requirement already satisfied: imageio<3.0,>=2.5 in /usr/local/lib/python3.12/dist-packages (from moviepy==1.0.3) (2.37.0)\n",
            "Requirement already satisfied: imageio-ffmpeg>=0.2.0 in /usr/local/lib/python3.12/dist-packages (from moviepy==1.0.3) (0.6.0)\n",
            "Requirement already satisfied: pillow>=8.3.2 in /usr/local/lib/python3.12/dist-packages (from imageio<3.0,>=2.5->moviepy==1.0.3) (11.3.0)\n",
            "Requirement already satisfied: charset_normalizer<4,>=2 in /usr/local/lib/python3.12/dist-packages (from requests<3.0,>=2.8.1->moviepy==1.0.3) (3.4.3)\n",
            "Requirement already satisfied: idna<4,>=2.5 in /usr/local/lib/python3.12/dist-packages (from requests<3.0,>=2.8.1->moviepy==1.0.3) (3.10)\n",
            "Requirement already satisfied: urllib3<3,>=1.21.1 in /usr/local/lib/python3.12/dist-packages (from requests<3.0,>=2.8.1->moviepy==1.0.3) (2.5.0)\n",
            "Requirement already satisfied: certifi>=2017.4.17 in /usr/local/lib/python3.12/dist-packages (from requests<3.0,>=2.8.1->moviepy==1.0.3) (2025.8.3)\n"
          ]
        }
      ]
    },
    {
      "cell_type": "code",
      "source": [
        "! python main.py --name \"Pendulum-v1\" -c configs/mg_a2c.yml"
      ],
      "metadata": {
        "colab": {
          "base_uri": "https://localhost:8080/"
        },
        "id": "C78eAk3CnMlH",
        "outputId": "d725f602-1f0c-4db7-d935-0f918c509d9d"
      },
      "execution_count": null,
      "outputs": [
        {
          "output_type": "stream",
          "name": "stdout",
          "text": [
            "2025-09-21 01:09:41.262927: I tensorflow/core/util/port.cc:153] oneDNN custom operations are on. You may see slightly different numerical results due to floating-point round-off errors from different computation orders. To turn them off, set the environment variable `TF_ENABLE_ONEDNN_OPTS=0`.\n",
            "2025-09-21 01:09:41.279562: E external/local_xla/xla/stream_executor/cuda/cuda_fft.cc:467] Unable to register cuFFT factory: Attempting to register factory for plugin cuFFT when one has already been registered\n",
            "WARNING: All log messages before absl::InitializeLog() is called are written to STDERR\n",
            "E0000 00:00:1758416981.300781    2813 cuda_dnn.cc:8579] Unable to register cuDNN factory: Attempting to register factory for plugin cuDNN when one has already been registered\n",
            "E0000 00:00:1758416981.307226    2813 cuda_blas.cc:1407] Unable to register cuBLAS factory: Attempting to register factory for plugin cuBLAS when one has already been registered\n",
            "W0000 00:00:1758416981.323694    2813 computation_placer.cc:177] computation placer already registered. Please check linkage and avoid linking the same target more than once.\n",
            "W0000 00:00:1758416981.323720    2813 computation_placer.cc:177] computation placer already registered. Please check linkage and avoid linking the same target more than once.\n",
            "W0000 00:00:1758416981.323723    2813 computation_placer.cc:177] computation placer already registered. Please check linkage and avoid linking the same target more than once.\n",
            "W0000 00:00:1758416981.323726    2813 computation_placer.cc:177] computation placer already registered. Please check linkage and avoid linking the same target more than once.\n",
            "2025-09-21 01:09:41.328534: I tensorflow/core/platform/cpu_feature_guard.cc:210] This TensorFlow binary is optimized to use available CPU instructions in performance-critical operations.\n",
            "To enable the following instructions: AVX2 AVX512F AVX512_VNNI FMA, in other operations, rebuild TensorFlow with the appropriate compiler flags.\n",
            "/usr/local/lib/python3.12/dist-packages/moviepy/config_defaults.py:47: SyntaxWarning: invalid escape sequence '\\P'\n",
            "  IMAGEMAGICK_BINARY = r\"C:\\Program Files\\ImageMagick-6.8.8-Q16\\magick.exe\"\n",
            "/usr/local/lib/python3.12/dist-packages/moviepy/video/io/ffmpeg_reader.py:294: SyntaxWarning: invalid escape sequence '\\d'\n",
            "  lines_video = [l for l in lines if ' Video: ' in l and re.search('\\d+x\\d+', l)]\n",
            "/usr/local/lib/python3.12/dist-packages/moviepy/video/io/ffmpeg_reader.py:367: SyntaxWarning: invalid escape sequence '\\d'\n",
            "  rotation_lines = [l for l in lines if 'rotate          :' in l and re.search('\\d+$', l)]\n",
            "/usr/local/lib/python3.12/dist-packages/moviepy/video/io/ffmpeg_reader.py:370: SyntaxWarning: invalid escape sequence '\\d'\n",
            "  match = re.search('\\d+$', rotation_line)\n",
            "error: XDG_RUNTIME_DIR not set in the environment.\n",
            "ALSA lib confmisc.c:855:(parse_card) cannot find card '0'\n",
            "ALSA lib conf.c:5178:(_snd_config_evaluate) function snd_func_card_inum returned error: No such file or directory\n",
            "ALSA lib confmisc.c:422:(snd_func_concat) error evaluating strings\n",
            "ALSA lib conf.c:5178:(_snd_config_evaluate) function snd_func_concat returned error: No such file or directory\n",
            "ALSA lib confmisc.c:1334:(snd_func_refer) error evaluating name\n",
            "ALSA lib conf.c:5178:(_snd_config_evaluate) function snd_func_refer returned error: No such file or directory\n",
            "ALSA lib conf.c:5701:(snd_config_expand) Evaluate error: No such file or directory\n",
            "ALSA lib pcm.c:2664:(snd_pcm_open_noupdate) Unknown PCM default\n",
            "ALSA lib confmisc.c:855:(parse_card) cannot find card '0'\n",
            "ALSA lib conf.c:5178:(_snd_config_evaluate) function snd_func_card_inum returned error: No such file or directory\n",
            "ALSA lib confmisc.c:422:(snd_func_concat) error evaluating strings\n",
            "ALSA lib conf.c:5178:(_snd_config_evaluate) function snd_func_concat returned error: No such file or directory\n",
            "ALSA lib confmisc.c:1334:(snd_func_refer) error evaluating name\n",
            "ALSA lib conf.c:5178:(_snd_config_evaluate) function snd_func_refer returned error: No such file or directory\n",
            "ALSA lib conf.c:5701:(snd_config_expand) Evaluate error: No such file or directory\n",
            "ALSA lib pcm.c:2664:(snd_pcm_open_noupdate) Unknown PCM default\n",
            "2025-09-21T01:09:46UTC | INFO     | Start meta-training, experiment name: Pendulum-v1\n",
            "2025-09-21T01:09:46UTC | INFO     | config: {'device_id': 'cpu', 'seed': 42, 'epochs': 1000, 'max_episode_steps': 200, 'gamma': 0.95, 'inner_steps': 5, 'inner_lr': 0.0001, 'outer_lr': 0.001, 'actor_critic': {'hidden_size': 128, 'actor_hidden_sizes': [64, 64, 64], 'critic_hidden_sizes': [64, 64, 64]}, 'a2c': {'value_coeff': 0.5}, 'name': 'Pendulum-v1', 'debug': False, 'path': 'runs/Pendulum-v1', 'device': device(type='cpu')}\n",
            "2025-09-21T01:09:46UTC | INFO     | Env spaces: (Box(-inf, inf, (1,), float32), Discrete(2)), max steps: 200\n",
            "tensor(0.9498, grad_fn=<SigmoidBackward0>)\n",
            "tensor(0.9493, grad_fn=<SigmoidBackward0>)\n",
            "tensor(0.9485, grad_fn=<SigmoidBackward0>)\n",
            "tensor(0.9475, grad_fn=<SigmoidBackward0>)\n",
            "tensor(0.9462, grad_fn=<SigmoidBackward0>)\n",
            "tensor(0.9443, grad_fn=<SigmoidBackward0>)\n",
            "tensor(0.9413, grad_fn=<SigmoidBackward0>)\n",
            "tensor(0.9383, grad_fn=<SigmoidBackward0>)\n",
            "tensor(0.9340, grad_fn=<SigmoidBackward0>)\n",
            "tensor(0.9291, grad_fn=<SigmoidBackward0>)\n",
            "tensor(0.9233, grad_fn=<SigmoidBackward0>)\n",
            "tensor(0.9174, grad_fn=<SigmoidBackward0>)\n",
            "tensor(0.9112, grad_fn=<SigmoidBackward0>)\n",
            "tensor(0.9046, grad_fn=<SigmoidBackward0>)\n",
            "tensor(0.8988, grad_fn=<SigmoidBackward0>)\n",
            "tensor(0.8926, grad_fn=<SigmoidBackward0>)\n",
            "tensor(0.8869, grad_fn=<SigmoidBackward0>)\n",
            "tensor(0.8814, grad_fn=<SigmoidBackward0>)\n",
            "tensor(0.8761, grad_fn=<SigmoidBackward0>)\n",
            "tensor(0.8710, grad_fn=<SigmoidBackward0>)\n",
            "tensor(0.8664, grad_fn=<SigmoidBackward0>)\n",
            "tensor(0.8620, grad_fn=<SigmoidBackward0>)\n",
            "tensor(0.8574, grad_fn=<SigmoidBackward0>)\n",
            "tensor(0.8530, grad_fn=<SigmoidBackward0>)\n",
            "tensor(0.8489, grad_fn=<SigmoidBackward0>)\n",
            "tensor(0.8449, grad_fn=<SigmoidBackward0>)\n",
            "tensor(0.8410, grad_fn=<SigmoidBackward0>)\n",
            "tensor(0.8373, grad_fn=<SigmoidBackward0>)\n",
            "tensor(0.8336, grad_fn=<SigmoidBackward0>)\n",
            "tensor(0.8301, grad_fn=<SigmoidBackward0>)\n",
            "tensor(0.8266, grad_fn=<SigmoidBackward0>)\n",
            "tensor(0.8233, grad_fn=<SigmoidBackward0>)\n",
            "tensor(0.8202, grad_fn=<SigmoidBackward0>)\n",
            "tensor(0.8170, grad_fn=<SigmoidBackward0>)\n",
            "tensor(0.8139, grad_fn=<SigmoidBackward0>)\n",
            "tensor(0.8110, grad_fn=<SigmoidBackward0>)\n",
            "tensor(0.8081, grad_fn=<SigmoidBackward0>)\n",
            "tensor(0.8053, grad_fn=<SigmoidBackward0>)\n",
            "tensor(0.8026, grad_fn=<SigmoidBackward0>)\n",
            "tensor(0.7999, grad_fn=<SigmoidBackward0>)\n",
            "tensor(0.7973, grad_fn=<SigmoidBackward0>)\n",
            "tensor(0.7947, grad_fn=<SigmoidBackward0>)\n",
            "tensor(0.7922, grad_fn=<SigmoidBackward0>)\n",
            "tensor(0.7898, grad_fn=<SigmoidBackward0>)\n",
            "tensor(0.7874, grad_fn=<SigmoidBackward0>)\n",
            "tensor(0.7851, grad_fn=<SigmoidBackward0>)\n",
            "tensor(0.7828, grad_fn=<SigmoidBackward0>)\n",
            "tensor(0.7805, grad_fn=<SigmoidBackward0>)\n",
            "tensor(0.7783, grad_fn=<SigmoidBackward0>)\n",
            "tensor(0.7761, grad_fn=<SigmoidBackward0>)\n",
            "tensor(0.7740, grad_fn=<SigmoidBackward0>)\n",
            "tensor(0.7719, grad_fn=<SigmoidBackward0>)\n",
            "tensor(0.7698, grad_fn=<SigmoidBackward0>)\n",
            "tensor(0.7678, grad_fn=<SigmoidBackward0>)\n",
            "tensor(0.7659, grad_fn=<SigmoidBackward0>)\n"
          ]
        }
      ]
    }
  ]
}
{
 "cells": [
  {
   "cell_type": "code",
   "execution_count": 1,
   "id": "verbal-salad",
   "metadata": {},
   "outputs": [
    {
     "data": {
      "text/plain": [
       "<torch._C.Generator at 0x7f5bc3538df0>"
      ]
     },
     "execution_count": 1,
     "metadata": {},
     "output_type": "execute_result"
    }
   ],
   "source": [
    "import numpy as np\n",
    "import seaborn as sns\n",
    "import pandas as pd\n",
    "import torch\n",
    "import gym\n",
    "\n",
    "import matplotlib.pyplot as plt\n",
    "\n",
    "torch.manual_seed(42)"
   ]
  },
  {
   "cell_type": "markdown",
   "id": "searching-purple",
   "metadata": {},
   "source": [
    "We can consider using a *baseline* $b$ in our result, which was originally introduced by [Williams, 1992](https://link.springer.com/article/10.1007/BF00992696). The paper in which the REINFORCE algorithm is introduced. \n",
    "$$\n",
    "\\nabla_{\\boldsymbol{\\theta}} J(\\boldsymbol{\\theta})=\\frac{1}{m} \\sum_{i=1}^{m} \\sum_{t=1}^{H} \\nabla_{\\boldsymbol{\\theta}} \\log \\pi_{\\boldsymbol{\\theta}}\\left(\\mathbf{a}_{t}^{(i)} \\mid \\mathbf{s}_{t}^{(i)}\\right)\\left[\\sum_{k=t}^{H} \\gamma^{k} r\\left(\\mathbf{s}_{k}^{(i)}, \\mathbf{a}_{k}^{(i)}\\right)-b\\right]\n",
    "$$"
   ]
  },
  {
   "cell_type": "code",
   "execution_count": 217,
   "id": "english-wings",
   "metadata": {},
   "outputs": [
    {
     "data": {
      "text/plain": [
       "(Box(-3.4028234663852886e+38, 3.4028234663852886e+38, (4,), float32),\n",
       " Discrete(2),\n",
       " 500)"
      ]
     },
     "execution_count": 217,
     "metadata": {},
     "output_type": "execute_result"
    }
   ],
   "source": [
    "env = gym.make(\"CartPole-v1\")\n",
    "\n",
    "env.observation_space, env.action_space, env._max_episode_steps"
   ]
  },
  {
   "cell_type": "code",
   "execution_count": 218,
   "id": "willing-senate",
   "metadata": {},
   "outputs": [],
   "source": [
    "import torch.nn as nn\n",
    "import torch.optim as optim\n",
    "from gym.spaces import Discrete, Box\n",
    "from torch.distributions.categorical import Categorical\n",
    "\n",
    "\n",
    "class Model(nn.Module):\n",
    "    def __init__(self, obs_dim, act_dim):\n",
    "        super(Model, self).__init__()\n",
    "        self.linear1 = nn.Linear(obs_dim, 128)\n",
    "        self.linear2 = nn.Linear(128, act_dim)\n",
    "        self.activation = nn.Tanh()\n",
    "        \n",
    "    def forward(self, x):\n",
    "        x = self.activation(self.linear1(x))\n",
    "        x = self.linear2(x)\n",
    "        return x\n",
    "\n",
    "    \n",
    "class Agent:\n",
    "    def __init__(self, env, baseline= None, \n",
    "                 gamma=0.99, lr=3e-2, hidden_size=64):\n",
    "        assert baseline is not None, \\\n",
    "            \"Give a baseline to compute the policy gradient\"\n",
    "        \n",
    "        assert isinstance(env.observation_space, Box), \\\n",
    "            \"This example only works for envs with continuous state spaces.\"\n",
    "        assert isinstance(env.action_space, Discrete), \\\n",
    "            \"This example only works for envs with discrete action spaces.\"\n",
    "        \n",
    "        self.env = env\n",
    "        self.obs_dim = env.observation_space.shape[0]\n",
    "        self.act_dim = env.action_space.n\n",
    "        self.max_ep_len = env._max_episode_steps\n",
    "        \n",
    "        self.gamma = gamma\n",
    "        self.baseline = baseline\n",
    "        \n",
    "        self.log_pi = Model(self.obs_dim, self.act_dim)\n",
    "        self.opt = optim.Adam(self.log_pi.parameters(), lr=lr)\n",
    "        \n",
    "        self.v = Model(self.obs_dim, 1)\n",
    "        self.opt_v = optim.Adam(self.v.parameters(), lr=lr)\n",
    "    \n",
    "    def update_policy(self, act, obs, baseline):\n",
    "        self.opt.zero_grad()\n",
    "        \n",
    "        # Calculate the loss\n",
    "        logp = self.get_policy(obs).log_prob(act)\n",
    "        batch_loss = -(logp * baseline).mean()  \n",
    "        \n",
    "        batch_loss.backward()\n",
    "        self.opt.step()\n",
    "        return batch_loss\n",
    "            \n",
    "    def get_policy(self, obs):\n",
    "        logits = self.log_pi(obs)\n",
    "        return Categorical(logits=logits)\n",
    "    \n",
    "    def get_action(self, obs, deterministic = False):\n",
    "        return self.get_policy(obs).sample().item()\n",
    "    \n",
    "    def sample_batch(self, batch_size=5000):\n",
    "        batch_obs = []          # for observations\n",
    "        batch_acts = []         # for actions\n",
    "        batch_weights = []      # for R(tau) weighting in policy gradient\n",
    "        batch_rets = []         # for measuring episode returns\n",
    "        batch_lens = []         # for measuring episode lengths\n",
    "        ep_rews = []            # list for rewards accrued throughout ep\n",
    "        \n",
    "        batch_episode = []      # for episodic samples of obs\n",
    "        batch_full_rets = []    # for measuring full episode returns\n",
    "        \n",
    "        done = False\n",
    "        o, ep_ret, ep_len, episode_obs = env.reset(), 0, 0, []\n",
    "        while True:\n",
    "            batch_obs.append(o)\n",
    "            episode_obs.append(o)\n",
    "            \n",
    "            a = self.get_action(torch.as_tensor(o, dtype=torch.float32))\n",
    "            o, r, done, _ = env.step(a)\n",
    "            \n",
    "            # save action, reward\n",
    "            batch_acts.append(a)\n",
    "            ep_rews.append(r)\n",
    "            \n",
    "            if done or(ep_len == self.max_ep_len):\n",
    "                # if episode is over, record info about episode\n",
    "                ep_ret, ep_len = sum(ep_rews), len(ep_rews)\n",
    "                batch_rets.append(ep_ret)\n",
    "                batch_lens.append(ep_len)\n",
    "                \n",
    "                # for MC value function estimation\n",
    "                batch_full_rets.append(ep_rews)\n",
    "                batch_episode.append(episode_obs)\n",
    "                \n",
    "                # Discounted reward\n",
    "                batch_weights += list(self.baseline(ep_rews, \n",
    "                                                    batch_obs, \n",
    "                                                    batch_acts, \n",
    "                                                    self.gamma,\n",
    "                                                    self.v))\n",
    "                \n",
    "                # reset episode-specific variables\n",
    "                o, done, ep_rews, episode_obs = env.reset(), False, [], []\n",
    "                \n",
    "                if len(batch_obs) > batch_size:\n",
    "                    break\n",
    "                \n",
    "        # value function estimation\n",
    "        value_network_loss = self.update_value_network(\n",
    "            batch_episode,\n",
    "            batch_full_rets,\n",
    "            batch_weights)\n",
    "        \n",
    "        batch_loss = self.update_policy(\n",
    "            torch.as_tensor(batch_acts, dtype=torch.float32),\n",
    "            torch.as_tensor(batch_obs, dtype=torch.float32),\n",
    "            torch.as_tensor(batch_weights, dtype=torch.float32))\n",
    "\n",
    "        return batch_loss, batch_rets, batch_lens\n",
    "    \n",
    "    def train(self, epochs=50, batch_size=5000, print_out=False):\n",
    "        ep_loss, ep_rets, ep_len = [], [], []\n",
    "        \n",
    "        for i in range(epochs):\n",
    "            batch_loss, batch_rets, batch_lens = self.sample_batch(\n",
    "                batch_size=batch_size)\n",
    "        \n",
    "            ep_loss.append(batch_loss)\n",
    "            ep_rets.append(np.mean(batch_rets))\n",
    "            ep_len.append(np.mean(batch_lens))\n",
    "            \n",
    "            if print_out:\n",
    "                print('epoch: %3d \\t loss: %.3f \\t return: %.3f \\t ep_len: %.3f' %\n",
    "                      (i, batch_loss, np.mean(batch_rets), np.mean(batch_lens)))\n",
    "        \n",
    "        return ep_loss, ep_rets, ep_len\n",
    "    \n",
    "    # Monte Carlo approach\n",
    "    def update_value_network(self, obs, rews, baseline):\n",
    "        MSE = torch.nn.MSELoss()\n",
    "        \n",
    "        losses = []\n",
    "        targets = []\n",
    "        l = torch.Tensor([])\n",
    "        for i in range(len(obs)):\n",
    "            state = np.array(obs[i])\n",
    "            reward = rews[i]\n",
    "            if type(reward[0]) == torch.Tensor:\n",
    "                reward = torch.cat(tuple(reward))\n",
    "            else: \n",
    "                reward = torch.Tensor(reward)\n",
    "                \n",
    "            target = reward.unsqueeze(1)\n",
    "            targets.append(target.mean().data.numpy())\n",
    "            loss = MSE(target, self.v(torch.Tensor(state)))\n",
    "            losses.append(loss)\n",
    "        \n",
    "        losses = torch.stack(losses).mean()\n",
    "        self.opt_v.zero_grad()\n",
    "        losses.backward()\n",
    "        self.opt_v.step()\n",
    "        return losses"
   ]
  },
  {
   "cell_type": "markdown",
   "id": "forty-shoulder",
   "metadata": {},
   "source": [
    "Finally there are several possibilities for picking a baseline, namely,\n",
    "$\\nabla_{\\boldsymbol{\\theta}} J(\\boldsymbol{\\theta})=\\mathbb{E}_{\\mathbf{s}_{t}, \\mathbf{a}_{t} \\pi_{\\boldsymbol{\\theta}}(.)}\\left[\\nabla_{\\boldsymbol{\\theta}} \\log \\pi_{\\boldsymbol{\\theta}}\\left(\\mathbf{a}_{t}^{(i)} \\mid \\mathbf{s}_{t}^{(i)}\\right)\\right] \\psi_{t} \\text { where } \\psi_{t} \\text { can be: }$\n",
    "\n",
    "* $\\sum_{t=0}^{H} \\gamma^{t} r_{t}:$ total (discounted) reward of trajectory\n",
    "* $\\sum_{k=t}^{H} \\gamma^{k-t} r_{k}:$ sum of rewards after $\\mathbf{a}_{t}$\n",
    "* $\\sum_{k=t}^{H} \\gamma^{k-t} r_{k}-b\\left(\\mathbf{s}_{t}\\right):$ sum of rewards after $\\mathbf{a}_{t}$ with baseline\n",
    "* $\\delta_{t}=r_{t}+\\gamma V^{\\pi}\\left(\\mathbf{s}_{t+1}\\right)-V^{\\pi}\\left(\\mathbf{s}_{t}\\right):$ error, with $V^{\\pi}\\left(\\mathbf{s}_{t}\\right)=\\mathbb{E}_{\\mathbf{a}_{t}}\\left[\\sum_{k=0}^{H} \\gamma^{k} r_{t+l}\\right]$\n",
    "* $\\hat{Q}_{\\phi}^{\\pi_{\\theta}}\\left(\\mathbf{s}_{t}, \\mathbf{a}_{t}\\right)=\\mathbb{E}_{a_{t+1}}\\left[\\sum_{k=0}^{H} \\gamma^{k} r_{t+l}\\right]:$ action-value function\n",
    "* $\\hat{A}_{\\phi}^{\\pi_{\\theta}}\\left(\\mathbf{s}_{t}, \\mathbf{a}_{t}\\right)=\\hat{Q}_{\\phi}^{\\pi_{\\theta}}\\left(\\mathbf{s}_{t}, \\mathbf{a}_{t}\\right)-\\hat{V}_{\\phi}^{\\pi_{\\theta}}\\left(\\mathbf{s}_{t}\\right)=\\mathbb{E}\\left[\\delta_{t}\\right]$, advantage function"
   ]
  },
  {
   "cell_type": "code",
   "execution_count": 153,
   "id": "genetic-change",
   "metadata": {},
   "outputs": [],
   "source": [
    "# The baseline interface\n",
    "# def baseline(rews, obs, acts, gamma = 0.99) -> list:\n",
    "#   Return torch.Tensor"
   ]
  },
  {
   "cell_type": "markdown",
   "id": "typical-communist",
   "metadata": {},
   "source": [
    "For $\\psi_{t}$,\n",
    "$\\sum_{t=0}^{H} R(\\tau) :$ total reward of trajectory"
   ]
  },
  {
   "cell_type": "code",
   "execution_count": 154,
   "id": "endangered-gazette",
   "metadata": {},
   "outputs": [
    {
     "data": {
      "text/plain": [
       "[27, 27, 27, 27, 27, 27]"
      ]
     },
     "execution_count": 154,
     "metadata": {},
     "output_type": "execute_result"
    }
   ],
   "source": [
    "def sum_rewards(rews, obs = None, acts = None, gamma = None, v_net = None):\n",
    "    \"\"\"\n",
    "    Apply a sum of rewards to all samples of the episode\n",
    "    :return: nothing\n",
    "    \"\"\"\n",
    "    summ = np.sum(rews)\n",
    "    for i in range(len(rews)):\n",
    "        rews[i] = summ\n",
    "    return rews\n",
    "\n",
    "sum_rewards([10, 1, 2, 1, 3, 10])"
   ]
  },
  {
   "cell_type": "markdown",
   "id": "endangered-assist",
   "metadata": {},
   "source": [
    "For $\\psi_{t}$, $\\sum_{t=0}^{H} \\gamma^{t} r_{t}:$ total (discounted) reward of trajectory"
   ]
  },
  {
   "cell_type": "code",
   "execution_count": 155,
   "id": "other-stadium",
   "metadata": {},
   "outputs": [
    {
     "data": {
      "text/plain": [
       "[26.312187529, 16.4769571, 15.63329, 13.771, 12.9, 10.0]"
      ]
     },
     "execution_count": 155,
     "metadata": {},
     "output_type": "execute_result"
    }
   ],
   "source": [
    "def discounted_sum_rewards(rews, obs = None, acts = None, gamma = None, v_net = None):\n",
    "    summation = 0\n",
    "    \n",
    "    for i in reversed(range(len(rews))):\n",
    "        summation = summation * gamma + rews[i]\n",
    "        rews[i] = summation\n",
    "    return rews    \n",
    "    \n",
    "discounted_sum_rewards([10, 1, 2, 1, 3, 10], gamma = 0.99)"
   ]
  },
  {
   "cell_type": "markdown",
   "id": "wrong-congress",
   "metadata": {},
   "source": [
    "For $\\psi_{t}$, \n",
    "$\\sum_{k=t}^{H} \\gamma^{k-t} r_{k}-b\\left(\\mathbf{s}_{t}\\right):$ sum of rewards after $\\mathbf{a}_{t}$ with baseline where the baseline is the average"
   ]
  },
  {
   "cell_type": "code",
   "execution_count": 156,
   "id": "confirmed-integral",
   "metadata": {},
   "outputs": [
    {
     "data": {
      "text/plain": [
       "[26.312187529, 16.4769571, 15.63329, 13.771, 12.9, 10.0]"
      ]
     },
     "execution_count": 156,
     "metadata": {},
     "output_type": "execute_result"
    }
   ],
   "source": [
    "def discounted_sum_rewards_normalized(rews, obs = None, acts = None, gamma = None, v_net = None):\n",
    "    summation = 0\n",
    "    \n",
    "    reward_std = np.std(reward_pool)\n",
    "    if reward_std > 0:\n",
    "        reward_mean = np.mean(reward_pool)\n",
    "            \n",
    "    for i in reversed(range(len(rews))):\n",
    "        summation = summation * gamma + rews[i]\n",
    "        rews[i] = (summation - reward_mean) / reward_std\n",
    "    return rews    \n",
    "\n",
    "# Take in mind this does not work on all environments, hence for the cartpole\n",
    "# environment this doesn't change anything\n",
    "discounted_sum_rewards([10, 1, 2, 1, 3, 10], gamma = 0.99)"
   ]
  },
  {
   "cell_type": "markdown",
   "id": "architectural-breeding",
   "metadata": {},
   "source": [
    "For $\\psi_{t}$,\n",
    "As discussed in [OpenAI SpinningUp](https://spinningup.openai.com/en/latest/spinningup/extra_pg_proof1.html),"
   ]
  },
  {
   "cell_type": "code",
   "execution_count": 157,
   "id": "printable-being",
   "metadata": {},
   "outputs": [
    {
     "data": {
      "text/plain": [
       "array([21, 12, 12, 11, 11,  9])"
      ]
     },
     "execution_count": 157,
     "metadata": {},
     "output_type": "execute_result"
    }
   ],
   "source": [
    "def reward_to_go(rews, obs = None, acts = None, gamma = None, v_net = None):\n",
    "    n = len(rews)\n",
    "    rtgs = np.zeros_like(rews)\n",
    "    \n",
    "    for i in reversed(range(n)):\n",
    "        rtgs[i] = gamma * rews[i] + (rtgs[i+1] if i+1 < n else 0)\n",
    "    return rtgs\n",
    "\n",
    "reward_to_go([10, 1, 2, 1, 3, 10], gamma = 0.99)"
   ]
  },
  {
   "cell_type": "markdown",
   "id": "liable-gambling",
   "metadata": {},
   "source": [
    "For $\\psi_{t}$, $\\delta_{t}=r_{t}+\\gamma V^{\\pi}\\left(\\mathbf{s}_{t+1}\\right)-V^{\\pi}\\left(\\mathbf{s}_{t}\\right):$ error, with $V^{\\pi}\\left(\\mathbf{s}_{t}\\right)=\\mathbb{E}_{\\mathbf{a}_{t}}\\left[\\sum_{k=0}^{H} \\gamma^{k} r_{t+l}\\right]$ as the rewards at every state will be 1 and the goal is to survive, this approach will not work on CartPole."
   ]
  },
  {
   "cell_type": "code",
   "execution_count": 205,
   "id": "intellectual-parks",
   "metadata": {},
   "outputs": [],
   "source": [
    "def discounted_sum_rewards_value_network(rews, obs, acts = None, gamma = None, v_net = None):\n",
    "    summation = 0\n",
    "\n",
    "    reward_std = np.std(rews)\n",
    "    if reward_std > 0:\n",
    "        reward_mean = np.mean(rews)\n",
    "\n",
    "    for i in reversed(range(len(rews))):\n",
    "        if i != 0:\n",
    "            summation = summation * gamma + v_net(torch.Tensor(obs[i]))\n",
    "        else:\n",
    "            summation = v_net(torch.Tensor(obs[i])) * gamma\n",
    "        rews[i] = summation - v_net(torch.Tensor(obs[i-1]))\n",
    "\n",
    "    return rews"
   ]
  },
  {
   "cell_type": "markdown",
   "id": "expressed-newspaper",
   "metadata": {},
   "source": [
    "Evaluating the different baselines,"
   ]
  },
  {
   "cell_type": "code",
   "execution_count": 167,
   "id": "humanitarian-welsh",
   "metadata": {},
   "outputs": [],
   "source": [
    "def run_agent(epochs=50, runs = 2, baseline = discounted_sum_rewards):\n",
    "    agent = Agent(env, baseline=reward_to_go) # gamma = None, to train undiscounted\n",
    "    loss, rets, length = [], [], []\n",
    "\n",
    "    for i in range(runs):\n",
    "        # gamma = None, to train undiscounted\n",
    "        agent = Agent(env, baseline=baseline) \n",
    "        ep_loss, ep_rets, ep_len = agent.train(epochs=epochs)\n",
    "        loss.append(ep_loss)\n",
    "        rets.append(ep_rets)\n",
    "        length.append(ep_len)\n",
    "    return loss, rets, length\n",
    "\n",
    "runs = 4\n",
    "epochs = 200\n",
    "loss_sum, rets_sum, length_sum = run_agent(epochs=epochs, runs=runs, baseline=sum_rewards)\n",
    "loss_disc, rets_disc, length_disc = run_agent(epochs=epochs, runs=runs, baseline=discounted_sum_rewards)\n",
    "loss_disc_rtg, rets_disc_rtg, length_disc_rtg = run_agent(epochs=epochs, \n",
    "                                                         runs=runs, \n",
    "                                                         baseline=reward_to_go)"
   ]
  },
  {
   "cell_type": "code",
   "execution_count": 219,
   "id": "linear-treaty",
   "metadata": {},
   "outputs": [
    {
     "name": "stderr",
     "output_type": "stream",
     "text": [
      "/home/rob/.conda/envs/meta/lib/python3.7/site-packages/seaborn/timeseries.py:183: UserWarning: The tsplot function is deprecated and will be removed or replaced (in a substantially altered version) in a future release.\n",
      "  warnings.warn(msg, UserWarning)\n",
      "/home/rob/.conda/envs/meta/lib/python3.7/site-packages/seaborn/timeseries.py:183: UserWarning: The tsplot function is deprecated and will be removed or replaced (in a substantially altered version) in a future release.\n",
      "  warnings.warn(msg, UserWarning)\n",
      "/home/rob/.conda/envs/meta/lib/python3.7/site-packages/seaborn/timeseries.py:183: UserWarning: The tsplot function is deprecated and will be removed or replaced (in a substantially altered version) in a future release.\n",
      "  warnings.warn(msg, UserWarning)\n"
     ]
    },
    {
     "data": {
      "image/png": "[encoded data removed]",
      "text/plain": [
       "<Figure size 432x288 with 1 Axes>"
      ]
     },
     "metadata": {},
     "output_type": "display_data"
    }
   ],
   "source": [
    "labels = ['sum of rewards', 'discounted sum of rewards', 'rewards to go']\n",
    "\n",
    "palette = sns.color_palette()\n",
    "sns.set(style=\"darkgrid\", font_scale=1.5)\n",
    "\n",
    "sns.tsplot(rets_disc, color=palette.pop(0))\n",
    "sns.tsplot(rets_sum, color=palette.pop(0))\n",
    "sns.tsplot(rets_disc_rtg, color=palette.pop(0))\n",
    "\n",
    "plt.xlabel(\"Epochs\")\n",
    "plt.ylabel(\"Average episodic return\")\n",
    "plt.title(\"Evaluation of CartPole\")\n",
    "plt.legend(labels=labels)\n",
    "plt.tight_layout(pad=0.5)\n",
    "plt.show()"
   ]
  },
  {
   "cell_type": "code",
   "execution_count": null,
   "id": "medium-diameter",
   "metadata": {},
   "outputs": [],
   "source": []
  }
 ],
 "metadata": {
  "kernelspec": {
   "display_name": "Python 3",
   "language": "python",
   "name": "python3"
  },
  "language_info": {
   "codemirror_mode": {
    "name": "ipython",
    "version": 3
   },
   "file_extension": ".py",
   "mimetype": "text/x-python",
   "name": "python",
   "nbconvert_exporter": "python",
   "pygments_lexer": "ipython3",
   "version": "3.7.10"
  }
 },
 "nbformat": 4,
 "nbformat_minor": 5
}

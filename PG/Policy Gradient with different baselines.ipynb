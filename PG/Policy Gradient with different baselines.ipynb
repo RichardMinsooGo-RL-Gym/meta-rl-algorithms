{
 "cells": [
  {
   "cell_type": "code",
   "execution_count": 2,
   "id": "ancient-detector",
   "metadata": {},
   "outputs": [],
   "source": [
    "import numpy\n",
    "import torch\n",
    "import gym"
   ]
  },
  {
   "cell_type": "markdown",
   "id": "level-section",
   "metadata": {},
   "source": [
    "We can consider using a *baseline* $b$ in our result, which was originally introduced by [Williams, 1992](https://link.springer.com/article/10.1007/BF00992696). The paper in which the REINFORCE algorithm is introduced. \n",
    "$$\n",
    "\\nabla_{\\boldsymbol{\\theta}} J(\\boldsymbol{\\theta})=\\frac{1}{m} \\sum_{i=1}^{m} \\sum_{t=1}^{H} \\nabla_{\\boldsymbol{\\theta}} \\log \\pi_{\\boldsymbol{\\theta}}\\left(\\mathbf{a}_{t}^{(i)} \\mid \\mathbf{s}_{t}^{(i)}\\right)\\left[\\sum_{k=t}^{H} \\gamma^{k} r\\left(\\mathbf{s}_{k}^{(i)}, \\mathbf{a}_{k}^{(i)}\\right)-b\\right]\n",
    "$$"
   ]
  },
  {
   "cell_type": "code",
   "execution_count": 8,
   "id": "special-finder",
   "metadata": {},
   "outputs": [
    {
     "data": {
      "text/plain": [
       "(Box(-3.4028234663852886e+38, 3.4028234663852886e+38, (4,), float32),\n",
       " Discrete(2))"
      ]
     },
     "execution_count": 8,
     "metadata": {},
     "output_type": "execute_result"
    }
   ],
   "source": [
    "env = gym.make(\"CartPole-v1\")\n",
    "\n",
    "env.observation_space, env.action_space"
   ]
  },
  {
   "cell_type": "code",
   "execution_count": 25,
   "id": "continental-morris",
   "metadata": {},
   "outputs": [],
   "source": [
    "import torch.nn as nn\n",
    "import torch.optim as optim\n",
    "from torch.distributions.categorical import Categorical\n",
    "\n",
    "\n",
    "class Model(nn.Module):\n",
    "    def __init__(self, obs_dim, act_dim):\n",
    "        super(Model, self).__init__()\n",
    "        self.linear1 = nn.Linear(obs_dim, 128)\n",
    "        self.linear2 = nn.Linear(128, act_dim)\n",
    "        self.activation = nn.Tanh()\n",
    "        \n",
    "    def forward(self, x):\n",
    "        x = self.activation(self.linear1(x))\n",
    "        x = self.linear2(x)\n",
    "        return x\n",
    "    \n",
    "class Agent:\n",
    "    def __init__(self, env, lr=3e-2, hidden_size=64):\n",
    "        self.env = env\n",
    "        self.obs_dim = env.observation_space.shape[0]\n",
    "        self.act_dim = env.action_space.n\n",
    "        \n",
    "        self.log_pi = Model(self.obs_dim, self.act_dim)\n",
    "        self.opt = optim.Adam(self.log_pi.parameters(), lr=lr)\n",
    "    \n",
    "    def sample_batch(batch_size):\n",
    "        # TODO: Setup deterministic get_action\n",
    "        max_ep_len = self.env._max_episode_steps\n",
    "        obs = []\n",
    "        acts = []\n",
    "        ep_rews = []\n",
    "        \n",
    "        o, ep_ret, ep_len = env.reset(), 0, 0\n",
    "        for i in range(batch_size):\n",
    "            a = self.get_action(obs)\n",
    "            o2, r, d, _ = env.step(a)\n",
    "            \n",
    "            ep_ret += r\n",
    "            ep_len += 1\n",
    "            d = False if ep_len == max_ep_len else d\n",
    "            \n",
    "            o = o2\n",
    "            \n",
    "            if d or(ep_len == max_ep_len):\n",
    "                o, ep_ret, ep_len = env.reset(), 0, 0\n",
    "                \n",
    "            \n",
    "    \n",
    "    def train(self, epochs=50, batch_size=50):\n",
    "        \n",
    "        for i in range(epochs):\n",
    "            for j in range(batch_size):\n",
    "                \n",
    "            \n",
    "        return NotImplemented\n",
    "    \n",
    "    def get_action(self, obs, deterministic = False):\n",
    "        logits = self.log_pi(obs)\n",
    "        return Categorical(logits=logits).sample().item()\n",
    "\n",
    "    "
   ]
  },
  {
   "cell_type": "code",
   "execution_count": 21,
   "id": "ecological-hampshire",
   "metadata": {},
   "outputs": [
    {
     "data": {
      "text/plain": [
       "NotImplementedError"
      ]
     },
     "execution_count": 21,
     "metadata": {},
     "output_type": "execute_result"
    }
   ],
   "source": [
    "agent = Agent(env)\n",
    "agent.train()"
   ]
  },
  {
   "cell_type": "code",
   "execution_count": 55,
   "id": "differential-sauce",
   "metadata": {},
   "outputs": [
    {
     "data": {
      "text/plain": [
       "500"
      ]
     },
     "execution_count": 55,
     "metadata": {},
     "output_type": "execute_result"
    }
   ],
   "source": []
  },
  {
   "cell_type": "code",
   "execution_count": null,
   "id": "cordless-performer",
   "metadata": {},
   "outputs": [],
   "source": []
  },
  {
   "cell_type": "code",
   "execution_count": null,
   "id": "knowing-finnish",
   "metadata": {},
   "outputs": [],
   "source": []
  },
  {
   "cell_type": "markdown",
   "id": "younger-halloween",
   "metadata": {},
   "source": [
    "Finally there are several possibilities for picking a baseline, namely,\n",
    "$\\nabla_{\\boldsymbol{\\theta}} J(\\boldsymbol{\\theta})=\\mathbb{E}_{\\mathbf{s}_{t}, \\mathbf{a}_{t} \\pi_{\\boldsymbol{\\theta}}(.)}\\left[\\nabla_{\\boldsymbol{\\theta}} \\log \\pi_{\\boldsymbol{\\theta}}\\left(\\mathbf{a}_{t}^{(i)} \\mid \\mathbf{s}_{t}^{(i)}\\right)\\right] \\psi_{t} \\text { where } \\psi_{t} \\text { can be: }$\n",
    "\n",
    "* $\\sum_{t=0}^{H} \\gamma^{t} r_{t}:$ total (discounted) reward of trajectory\n",
    "* $\\sum_{k=t}^{H} \\gamma^{k-t} r_{k}:$ sum of rewards after $\\mathbf{a}_{t}$\n",
    "* $\\sum_{k=t}^{H} \\gamma^{k-t} r_{k}-b\\left(\\mathbf{s}_{t}\\right):$ sum of rewards after $\\mathbf{a}_{t}$ with baseline\n",
    "* $\\delta_{t}=r_{t}+\\gamma V^{\\pi}\\left(\\mathbf{s}_{t+1}\\right)-V^{\\pi}\\left(\\mathbf{s}_{t}\\right):$ error, with $V^{\\pi}\\left(\\mathbf{s}_{t}\\right)=\\mathbb{E}_{\\mathbf{a}_{t}}\\left[\\sum_{k=0}^{H} \\gamma^{k} r_{t+l}\\right]$\n",
    "* $\\hat{Q}_{\\phi}^{\\pi_{\\theta}}\\left(\\mathbf{s}_{t}, \\mathbf{a}_{t}\\right)=\\mathbb{E}_{a_{t+1}}\\left[\\sum_{k=0}^{H} \\gamma^{k} r_{t+l}\\right]:$ action-value function\n",
    "* $\\hat{A}_{\\phi}^{\\pi_{\\theta}}\\left(\\mathbf{s}_{t}, \\mathbf{a}_{t}\\right)=\\hat{Q}_{\\phi}^{\\pi_{\\theta}}\\left(\\mathbf{s}_{t}, \\mathbf{a}_{t}\\right)-\\hat{V}_{\\phi}^{\\pi_{\\theta}}\\left(\\mathbf{s}_{t}\\right)=\\mathbb{E}\\left[\\delta_{t}\\right]$, advantage function"
   ]
  },
  {
   "cell_type": "code",
   "execution_count": null,
   "id": "controversial-interstate",
   "metadata": {},
   "outputs": [],
   "source": []
  },
  {
   "cell_type": "code",
   "execution_count": null,
   "id": "dedicated-memorabilia",
   "metadata": {},
   "outputs": [],
   "source": []
  },
  {
   "cell_type": "code",
   "execution_count": null,
   "id": "least-fundamentals",
   "metadata": {},
   "outputs": [],
   "source": []
  }
 ],
 "metadata": {
  "kernelspec": {
   "display_name": "Python 3",
   "language": "python",
   "name": "python3"
  },
  "language_info": {
   "codemirror_mode": {
    "name": "ipython",
    "version": 3
   },
   "file_extension": ".py",
   "mimetype": "text/x-python",
   "name": "python",
   "nbconvert_exporter": "python",
   "pygments_lexer": "ipython3",
   "version": "3.7.10"
  }
 },
 "nbformat": 4,
 "nbformat_minor": 5
}

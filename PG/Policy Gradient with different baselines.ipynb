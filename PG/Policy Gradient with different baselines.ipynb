{
 "cells": [
  {
   "cell_type": "code",
   "execution_count": 1,
   "id": "verbal-salad",
   "metadata": {},
   "outputs": [
    {
     "data": {
      "text/plain": [
       "<torch._C.Generator at 0x7fa8755c7d10>"
      ]
     },
     "execution_count": 1,
     "metadata": {},
     "output_type": "execute_result"
    }
   ],
   "source": [
    "import numpy as np\n",
    "import seaborn as sns\n",
    "import pandas as pd\n",
    "import torch\n",
    "import gym\n",
    "\n",
    "import matplotlib.pyplot as plt\n",
    "\n",
    "torch.manual_seed(42)"
   ]
  },
  {
   "cell_type": "markdown",
   "id": "searching-purple",
   "metadata": {},
   "source": [
    "We can consider using a *baseline* $b$ in our result, which was originally introduced by [Williams, 1992](https://link.springer.com/article/10.1007/BF00992696). The paper in which the REINFORCE algorithm is introduced. \n",
    "$$\n",
    "\\nabla_{\\boldsymbol{\\theta}} J(\\boldsymbol{\\theta})=\\frac{1}{m} \\sum_{i=1}^{m} \\sum_{t=1}^{H} \\nabla_{\\boldsymbol{\\theta}} \\log \\pi_{\\boldsymbol{\\theta}}\\left(\\mathbf{a}_{t}^{(i)} \\mid \\mathbf{s}_{t}^{(i)}\\right)\\left[\\sum_{k=t}^{H} \\gamma^{k} r\\left(\\mathbf{s}_{k}^{(i)}, \\mathbf{a}_{k}^{(i)}\\right)-b\\right]\n",
    "$$"
   ]
  },
  {
   "cell_type": "code",
   "execution_count": 2,
   "id": "english-wings",
   "metadata": {},
   "outputs": [
    {
     "data": {
      "text/plain": [
       "(Box(-3.4028234663852886e+38, 3.4028234663852886e+38, (4,), float32),\n",
       " Discrete(2),\n",
       " 500)"
      ]
     },
     "execution_count": 2,
     "metadata": {},
     "output_type": "execute_result"
    }
   ],
   "source": [
    "env = gym.make(\"CartPole-v1\")\n",
    "\n",
    "env.observation_space, env.action_space, env._max_episode_steps"
   ]
  },
  {
   "cell_type": "code",
   "execution_count": 24,
   "id": "willing-senate",
   "metadata": {},
   "outputs": [],
   "source": [
    "import torch.nn as nn\n",
    "import torch.optim as optim\n",
    "from gym.spaces import Discrete, Box\n",
    "from torch.distributions.categorical import Categorical\n",
    "\n",
    "\n",
    "class Model(nn.Module):\n",
    "    def __init__(self, obs_dim, act_dim):\n",
    "        super(Model, self).__init__()\n",
    "        self.linear1 = nn.Linear(obs_dim, 128)\n",
    "        self.linear2 = nn.Linear(128, act_dim)\n",
    "        self.activation = nn.Tanh()\n",
    "        \n",
    "    def forward(self, x):\n",
    "        x = self.activation(self.linear1(x))\n",
    "        x = self.linear2(x)\n",
    "        return x\n",
    "    \n",
    "class Agent:\n",
    "    def __init__(self, env, baseline= None, \n",
    "                 gamma=0.99, lr=3e-2, hidden_size=64):\n",
    "        assert baseline is not None, \\\n",
    "            \"Give a baseline to compute the policy gradient\"\n",
    "        \n",
    "        assert isinstance(env.observation_space, Box), \\\n",
    "            \"This example only works for envs with continuous state spaces.\"\n",
    "        assert isinstance(env.action_space, Discrete), \\\n",
    "            \"This example only works for envs with discrete action spaces.\"\n",
    "        \n",
    "        self.env = env\n",
    "        self.obs_dim = env.observation_space.shape[0]\n",
    "        self.act_dim = env.action_space.n\n",
    "        self.max_ep_len = env._max_episode_steps\n",
    "        \n",
    "        self.gamma = gamma\n",
    "        self.baseline = baseline\n",
    "        \n",
    "        self.log_pi = Model(self.obs_dim, self.act_dim)\n",
    "        self.opt = optim.Adam(self.log_pi.parameters(), lr=lr)\n",
    "    \n",
    "    def update_policy(self, act, obs, baseline):\n",
    "        self.opt.zero_grad()\n",
    "        \n",
    "        # Calculate the loss\n",
    "        logp = self.get_policy(obs).log_prob(act)\n",
    "        batch_loss = -(logp * baseline).mean()  \n",
    "        \n",
    "        batch_loss.backward()\n",
    "        self.opt.step()\n",
    "        return batch_loss\n",
    "        \n",
    "    def get_policy(self, obs):\n",
    "        logits = self.log_pi(obs)\n",
    "        return Categorical(logits=logits)\n",
    "    \n",
    "    def get_action(self, obs, deterministic = False):\n",
    "        # TODO: Setup deterministic get_action\n",
    "        return self.get_policy(obs).sample().item()\n",
    "    \n",
    "    def sample_batch(self, batch_size=5000):\n",
    "        batch_obs = []          # for observations\n",
    "        batch_acts = []         # for actions\n",
    "        batch_weights = []      # for R(tau) weighting in policy gradient\n",
    "        batch_rets = []         # for measuring episode returns\n",
    "        batch_lens = []         # for measuring episode lengths\n",
    "        ep_rews = []            # list for rewards accrued throughout ep\n",
    "        \n",
    "        done = False\n",
    "        o, ep_ret, ep_len = env.reset(), 0, 0\n",
    "        while True:\n",
    "            batch_obs.append(o)\n",
    "            \n",
    "            a = self.get_action(torch.as_tensor(o, dtype=torch.float32))\n",
    "            o, r, done, _ = env.step(a)\n",
    "            \n",
    "            # save action, reward\n",
    "            batch_acts.append(a)\n",
    "            ep_rews.append(r)\n",
    "            \n",
    "            if done or(ep_len == self.max_ep_len):\n",
    "                # if episode is over, record info about episode\n",
    "                ep_ret, ep_len = sum(ep_rews), len(ep_rews)\n",
    "                batch_rets.append(ep_ret)\n",
    "                batch_lens.append(ep_len)\n",
    " \n",
    "                # the weight for each logprob(a|s) is R(tau)\n",
    "                # first naive implementation given,\n",
    "                # batch_weights += [ep_ret] * ep_len\n",
    "                \n",
    "                # Discounted reward\n",
    "                batch_weights += list(self.baseline(ep_rews, \n",
    "                                                    batch_obs, \n",
    "                                                    batch_acts, \n",
    "                                                    self.gamma))\n",
    "                \n",
    "                # reset episode-specific variables\n",
    "                o, done, ep_rews = env.reset(), False, []\n",
    "                \n",
    "                if len(batch_obs) > batch_size:\n",
    "                    break\n",
    "        \n",
    "        batch_loss = self.update_policy(\n",
    "            torch.as_tensor(batch_acts, dtype=torch.float32),\n",
    "            torch.as_tensor(batch_obs, dtype=torch.float32),\n",
    "            torch.as_tensor(batch_weights, dtype=torch.float32))\n",
    "        return batch_loss, batch_rets, batch_lens\n",
    "    \n",
    "    def train(self, epochs=50, batch_size=5000, print_out=False):\n",
    "        ep_loss, ep_rets, ep_len = [], [], []\n",
    "        \n",
    "        for i in range(epochs):\n",
    "            batch_loss, batch_rets, batch_lens = self.sample_batch(\n",
    "                batch_size=batch_size)\n",
    "        \n",
    "            ep_loss.append(batch_loss)\n",
    "            ep_rets.append(np.mean(batch_rets))\n",
    "            ep_len.append(np.mean(batch_lens))\n",
    "            \n",
    "            print('epoch: %3d \\t loss: %.3f \\t return: %.3f \\t ep_len: %.3f' %\n",
    "                  (i, batch_loss, np.mean(batch_rets), np.mean(batch_lens)))\n",
    "        \n",
    "        return ep_loss, ep_rets, ep_len"
   ]
  },
  {
   "cell_type": "markdown",
   "id": "forty-shoulder",
   "metadata": {},
   "source": [
    "Finally there are several possibilities for picking a baseline, namely,\n",
    "$\\nabla_{\\boldsymbol{\\theta}} J(\\boldsymbol{\\theta})=\\mathbb{E}_{\\mathbf{s}_{t}, \\mathbf{a}_{t} \\pi_{\\boldsymbol{\\theta}}(.)}\\left[\\nabla_{\\boldsymbol{\\theta}} \\log \\pi_{\\boldsymbol{\\theta}}\\left(\\mathbf{a}_{t}^{(i)} \\mid \\mathbf{s}_{t}^{(i)}\\right)\\right] \\psi_{t} \\text { where } \\psi_{t} \\text { can be: }$\n",
    "\n",
    "* $\\sum_{t=0}^{H} \\gamma^{t} r_{t}:$ total (discounted) reward of trajectory\n",
    "* $\\sum_{k=t}^{H} \\gamma^{k-t} r_{k}:$ sum of rewards after $\\mathbf{a}_{t}$\n",
    "* $\\sum_{k=t}^{H} \\gamma^{k-t} r_{k}-b\\left(\\mathbf{s}_{t}\\right):$ sum of rewards after $\\mathbf{a}_{t}$ with baseline\n",
    "* $\\delta_{t}=r_{t}+\\gamma V^{\\pi}\\left(\\mathbf{s}_{t+1}\\right)-V^{\\pi}\\left(\\mathbf{s}_{t}\\right):$ error, with $V^{\\pi}\\left(\\mathbf{s}_{t}\\right)=\\mathbb{E}_{\\mathbf{a}_{t}}\\left[\\sum_{k=0}^{H} \\gamma^{k} r_{t+l}\\right]$\n",
    "* $\\hat{Q}_{\\phi}^{\\pi_{\\theta}}\\left(\\mathbf{s}_{t}, \\mathbf{a}_{t}\\right)=\\mathbb{E}_{a_{t+1}}\\left[\\sum_{k=0}^{H} \\gamma^{k} r_{t+l}\\right]:$ action-value function\n",
    "* $\\hat{A}_{\\phi}^{\\pi_{\\theta}}\\left(\\mathbf{s}_{t}, \\mathbf{a}_{t}\\right)=\\hat{Q}_{\\phi}^{\\pi_{\\theta}}\\left(\\mathbf{s}_{t}, \\mathbf{a}_{t}\\right)-\\hat{V}_{\\phi}^{\\pi_{\\theta}}\\left(\\mathbf{s}_{t}\\right)=\\mathbb{E}\\left[\\delta_{t}\\right]$, advantage function"
   ]
  },
  {
   "cell_type": "code",
   "execution_count": 25,
   "id": "genetic-change",
   "metadata": {},
   "outputs": [],
   "source": [
    "# The baseline interface\n",
    "# def baseline(rews, obs, acts, gamma = 0.99):\n",
    "#   Return torch.Tensor"
   ]
  },
  {
   "cell_type": "code",
   "execution_count": 26,
   "id": "departmental-savannah",
   "metadata": {},
   "outputs": [
    {
     "data": {
      "text/plain": [
       "(array([27, 17, 16, 14, 13, 10]), array([22, 12, 12, 11, 11,  9]))"
      ]
     },
     "execution_count": 26,
     "metadata": {},
     "output_type": "execute_result"
    }
   ],
   "source": [
    "def reward_to_go(rews, obs = None, acts = None, gamma = None):\n",
    "    n = len(rews)\n",
    "    rtgs = np.zeros_like(rews)\n",
    "    \n",
    "    if gamma is not None:\n",
    "        for i in reversed(range(n)):\n",
    "            rtgs[i] = gamma**i * rews[i] + (rtgs[i+1] if i+1 < n else 0)\n",
    "    else: \n",
    "        for i in reversed(range(n)):\n",
    "            rtgs[i] = rews[i] + (rtgs[i+1] if i+1 < n else 0)\n",
    "    return rtgs\n",
    "\n",
    "(reward_to_go([10, 1, 2, 1, 3, 10], gamma = None),\n",
    "    reward_to_go([10, 1, 2, 1, 3, 10], gamma = 0.99))"
   ]
  },
  {
   "cell_type": "code",
   "execution_count": 27,
   "id": "incorporate-stadium",
   "metadata": {},
   "outputs": [
    {
     "data": {
      "text/plain": [
       "(array([22.5, 12.5, 11.5,  9.5,  8.5,  5.5]),\n",
       " array([17.5,  7.5,  7.5,  6.5,  6.5,  4.5]))"
      ]
     },
     "execution_count": 27,
     "metadata": {},
     "output_type": "execute_result"
    }
   ],
   "source": [
    "# TODO: Trick introduced in DeepRL bootcamp, \n",
    "# http://rail.eecs.berkeley.edu/deeprlcourse-fa17/f17docs/lecture_4_policy_gradient.pdf\n",
    "# Should it be discounted here?\n",
    "def reward_to_go_average(rews, obs = None, acts = None, gamma = None):\n",
    "    n = len(rews)\n",
    "    rtgs = np.zeros_like(rews)\n",
    "    \n",
    "    if gamma is not None:\n",
    "        for i in reversed(range(n)):\n",
    "            rtgs[i] = gamma**i * rews[i] + (rtgs[i+1] if i+1 < n else 0)\n",
    "    else: \n",
    "        for i in reversed(range(n)):\n",
    "            rtgs[i] = rews[i] + (rtgs[i+1] if i+1 < n else 0)\n",
    "            \n",
    "    # baseline r_bar\n",
    "    return rtgs - np.mean(rews)\n",
    "\n",
    "(reward_to_go_average([10, 1, 2, 1, 3, 10], gamma = None),\n",
    "    reward_to_go_average([10, 1, 2, 1, 3, 10], gamma = 0.99))"
   ]
  },
  {
   "cell_type": "code",
   "execution_count": 28,
   "id": "protective-found",
   "metadata": {},
   "outputs": [],
   "source": [
    "# TODO: Using value function as baseline"
   ]
  },
  {
   "cell_type": "code",
   "execution_count": 54,
   "id": "humanitarian-welsh",
   "metadata": {},
   "outputs": [
    {
     "name": "stdout",
     "output_type": "stream",
     "text": [
      "epoch:   0 \t loss: 7.460 \t return: 20.181 \t ep_len: 20.181\n",
      "epoch:   1 \t loss: 11.286 \t return: 42.218 \t ep_len: 42.218\n",
      "epoch:   2 \t loss: 9.370 \t return: 39.803 \t ep_len: 39.803\n",
      "epoch:   3 \t loss: 10.717 \t return: 56.133 \t ep_len: 56.133\n",
      "epoch:   4 \t loss: 11.129 \t return: 71.028 \t ep_len: 71.028\n",
      "epoch:   5 \t loss: 9.590 \t return: 59.786 \t ep_len: 59.786\n",
      "epoch:   6 \t loss: 9.622 \t return: 66.693 \t ep_len: 66.693\n",
      "epoch:   7 \t loss: 8.599 \t return: 66.840 \t ep_len: 66.840\n",
      "epoch:   8 \t loss: 8.445 \t return: 76.279 \t ep_len: 76.279\n",
      "epoch:   9 \t loss: 8.067 \t return: 77.030 \t ep_len: 77.030\n",
      "epoch:   0 \t loss: 6.616 \t return: 17.503 \t ep_len: 17.503\n",
      "epoch:   1 \t loss: 6.775 \t return: 21.177 \t ep_len: 21.177\n",
      "epoch:   2 \t loss: 11.721 \t return: 51.081 \t ep_len: 51.081\n",
      "epoch:   3 \t loss: 11.480 \t return: 55.811 \t ep_len: 55.811\n",
      "epoch:   4 \t loss: 11.557 \t return: 65.429 \t ep_len: 65.429\n",
      "epoch:   5 \t loss: 11.384 \t return: 70.479 \t ep_len: 70.479\n",
      "epoch:   6 \t loss: 10.922 \t return: 76.106 \t ep_len: 76.106\n",
      "epoch:   7 \t loss: 10.722 \t return: 81.210 \t ep_len: 81.210\n",
      "epoch:   8 \t loss: 10.212 \t return: 80.270 \t ep_len: 80.270\n",
      "epoch:   9 \t loss: 10.312 \t return: 86.102 \t ep_len: 86.102\n"
     ]
    }
   ],
   "source": [
    "# TODO: Add some plots, for different baselines to compare\n",
    "runs = 2\n",
    "agent = Agent(env, baseline=reward_to_go) # gamma = None, to train undiscounted\n",
    "\n",
    "loss = []\n",
    "rets = []\n",
    "length = []\n",
    "\n",
    "for i in range(runs):\n",
    "    # gamma = None, to train undiscounted\n",
    "    agent = Agent(env, baseline=reward_to_go) \n",
    "    ep_loss, ep_rets, ep_len = agent.train(epochs=10)\n",
    "    loss.append(ep_loss)\n",
    "    rets.append(ep_rets)\n",
    "    length.append(ep_len)"
   ]
  },
  {
   "cell_type": "code",
   "execution_count": 77,
   "id": "worth-virginia",
   "metadata": {},
   "outputs": [
    {
     "name": "stderr",
     "output_type": "stream",
     "text": [
      "/home/rob/.conda/envs/meta/lib/python3.7/site-packages/seaborn/timeseries.py:183: UserWarning: The tsplot function is deprecated and will be removed or replaced (in a substantially altered version) in a future release.\n",
      "  warnings.warn(msg, UserWarning)\n"
     ]
    },
    {
     "data": {
      "image/png": "[encoded data removed]",
      "text/plain": [
       "<Figure size 432x288 with 1 Axes>"
      ]
     },
     "metadata": {},
     "output_type": "display_data"
    }
   ],
   "source": [
    "# Plot outputs of the multiple runs\n",
    "sns.tsplot(data=rets, ci='sd', time=np.arange(10), value=\"Average episodic return\")\n",
    "plt.tight_layout(pad=0.5)"
   ]
  },
  {
   "cell_type": "code",
   "execution_count": null,
   "id": "lucky-identification",
   "metadata": {},
   "outputs": [],
   "source": []
  },
  {
   "cell_type": "code",
   "execution_count": null,
   "id": "hairy-circle",
   "metadata": {},
   "outputs": [],
   "source": []
  },
  {
   "cell_type": "code",
   "execution_count": null,
   "id": "elect-elephant",
   "metadata": {},
   "outputs": [],
   "source": []
  }
 ],
 "metadata": {
  "kernelspec": {
   "display_name": "Python 3",
   "language": "python",
   "name": "python3"
  },
  "language_info": {
   "codemirror_mode": {
    "name": "ipython",
    "version": 3
   },
   "file_extension": ".py",
   "mimetype": "text/x-python",
   "name": "python",
   "nbconvert_exporter": "python",
   "pygments_lexer": "ipython3",
   "version": "3.7.10"
  }
 },
 "nbformat": 4,
 "nbformat_minor": 5
}

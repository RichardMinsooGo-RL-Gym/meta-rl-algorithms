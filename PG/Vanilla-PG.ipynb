{
 "cells": [
  {
   "cell_type": "code",
   "execution_count": 2,
   "metadata": {},
   "outputs": [
    {
     "data": {
      "text/plain": [
       "'1.15.4'"
      ]
     },
     "execution_count": 2,
     "metadata": {},
     "output_type": "execute_result"
    }
   ],
   "source": [
    "import tensorflow as tf\n",
    "import numpy as np\n",
    "\n",
    "\"\"\"\n",
    "\n",
    "Exercise 1.1: Diagonal Gaussian Likelihood\n",
    "\n",
    "Write a function which takes in Tensorflow symbols for the means and \n",
    "log stds of a batch of diagonal Gaussian distributions, along with a \n",
    "Tensorflow placeholder for (previously-generated) samples from those \n",
    "distributions, and returns a Tensorflow symbol for computing the log \n",
    "likelihoods of those samples.\n",
    "\n",
    "\"\"\"\n",
    "\n",
    "tf.__version__"
   ]
  },
  {
   "cell_type": "code",
   "execution_count": null,
   "metadata": {},
   "outputs": [],
   "source": [
    "\n",
    "def gaussian_likelihood(x, mu, log_std):\n",
    "    \"\"\"\n",
    "    Args:\n",
    "        x: Tensor with shape [batch, dim]\n",
    "        mu: Tensor with shape [batch, dim]\n",
    "        log_std: Tensor with shape [batch, dim] or [dim]\n",
    "\n",
    "    Returns:\n",
    "        Tensor with shape [batch]\n",
    "    \"\"\"\n",
    "    #######################\n",
    "    #                     #\n",
    "    #   YOUR CODE HERE    #\n",
    "    #                     #\n",
    "    #######################\n",
    "    return tf.constant(0)\n",
    "\n",
    "\n",
    "\"\"\"\n",
    "Run this file to verify your solution.\n",
    "\"\"\"\n",
    "from spinup.exercises.tf1.problem_set_1_solutions import exercise1_1_soln\n",
    "from spinup.exercises.common import print_result\n",
    "\n",
    "sess = tf.Session()\n",
    "\n",
    "dim = 10\n",
    "x = tf.placeholder(tf.float32, shape=(None, dim))\n",
    "mu = tf.placeholder(tf.float32, shape=(None, dim))\n",
    "log_std = tf.placeholder(tf.float32, shape=(dim,))\n",
    "\n",
    "your_gaussian_likelihood = gaussian_likelihood(x, mu, log_std)\n",
    "true_gaussian_likelihood = exercise1_1_soln.gaussian_likelihood(x, mu, log_std)\n",
    "\n",
    "batch_size = 32\n",
    "feed_dict = {x: np.random.rand(batch_size, dim),\n",
    "             mu: np.random.rand(batch_size, dim),\n",
    "             log_std: np.random.rand(dim)}\n",
    "\n",
    "your_result, true_result = sess.run([your_gaussian_likelihood, true_gaussian_likelihood],\n",
    "                                    feed_dict=feed_dict)\n",
    "\n",
    "correct = np.allclose(your_result, true_result)\n",
    "print_result(correct)"
   ]
  }
 ],
 "metadata": {
  "kernelspec": {
   "display_name": "Python 3",
   "language": "python",
   "name": "python3"
  },
  "language_info": {
   "codemirror_mode": {
    "name": "ipython",
    "version": 3
   },
   "file_extension": ".py",
   "mimetype": "text/x-python",
   "name": "python",
   "nbconvert_exporter": "python",
   "pygments_lexer": "ipython3",
   "version": "3.7.7"
  }
 },
 "nbformat": 4,
 "nbformat_minor": 4
}
